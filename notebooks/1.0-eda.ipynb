{
 "cells": [
  {
   "cell_type": "markdown",
   "id": "bb6af7c9",
   "metadata": {},
   "source": [
    "Loading Dataset"
   ]
  },
  {
   "cell_type": "code",
   "execution_count": null,
   "id": "3fc31122",
   "metadata": {},
   "outputs": [],
   "source": [
    "from kagglehub import KaggleDatasetAdapter\n",
    "...\n",
    "df = kagglehub.load_dataset(\n",
    "    KaggleDatasetAdapter.PANDAS,\n",
    "    \"atwine/xente-challenge\",\n",
    "    file_path,\n",
    ")\n"
   ]
  },
  {
   "cell_type": "markdown",
   "id": "204e3cdf",
   "metadata": {},
   "source": [
    "Overview"
   ]
  },
  {
   "cell_type": "code",
   "execution_count": null,
   "id": "43d1e44b",
   "metadata": {},
   "outputs": [],
   "source": [
    "print(\"Shape:\", df.shape)\n",
    "print(\"\\nData Types:\\n\", df.dtypes)\n",
    "print(\"\\nInfo:\")\n",
    "df.info()\n"
   ]
  },
  {
   "cell_type": "markdown",
   "id": "c0758f9e",
   "metadata": {},
   "source": [
    "Summary Stats"
   ]
  },
  {
   "cell_type": "code",
   "execution_count": null,
   "id": "d70b896b",
   "metadata": {},
   "outputs": [],
   "source": [
    "print(\"Summary Statistics:\\n\", df.describe())\n"
   ]
  },
  {
   "cell_type": "markdown",
   "id": "6f722707",
   "metadata": {},
   "source": [
    "Numerical Distribution"
   ]
  },
  {
   "cell_type": "code",
   "execution_count": null,
   "id": "5e90734d",
   "metadata": {},
   "outputs": [],
   "source": [
    "numerical_cols = [col for col in ['Amount', 'Value'] if col in df.columns]\n",
    "\n",
    "for col in numerical_cols:\n",
    "    plt.figure(figsize=(8, 4))\n",
    "    sns.histplot(df[col], kde=True)\n",
    "    plt.title(f'Distribution of {col}')\n",
    "    plt.show()\n"
   ]
  }
 ],
 "metadata": {
  "kernelspec": {
   "display_name": ".venv",
   "language": "python",
   "name": "python3"
  },
  "language_info": {
   "name": "python",
   "version": "3.11.2"
  }
 },
 "nbformat": 4,
 "nbformat_minor": 5
}
